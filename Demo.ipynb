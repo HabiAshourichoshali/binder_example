{
 "cells": [
  {
   "cell_type": "code",
   "execution_count": 15,
   "metadata": {},
   "outputs": [],
   "source": [
    "#!pip install altair\n",
    "#! conda install -c conda-forge altair vega_datasets"
   ]
  },
  {
   "cell_type": "code",
   "execution_count": 20,
   "metadata": {},
   "outputs": [],
   "source": [
    "#This one worked\n",
    "#%pip install altair vega_datasets"
   ]
  },
  {
   "cell_type": "code",
   "execution_count": 25,
   "metadata": {},
   "outputs": [],
   "source": [
    "import altair as alt\n",
    "import pandas as pd\n",
    "import numpy as np"
   ]
  },
  {
   "cell_type": "code",
   "execution_count": 18,
   "metadata": {},
   "outputs": [
    {
     "name": "stdout",
     "output_type": "stream",
     "text": [
      "# conda environments:\n",
      "#\n",
      "base                     /opt/anaconda3\n",
      "notebooks             *  /opt/anaconda3/envs/notebooks\n",
      "twitter                  /opt/anaconda3/envs/twitter\n",
      "\n"
     ]
    }
   ],
   "source": [
    "!conda env list"
   ]
  },
  {
   "cell_type": "code",
   "execution_count": 21,
   "metadata": {},
   "outputs": [],
   "source": [
    "#!which python"
   ]
  },
  {
   "cell_type": "code",
   "execution_count": 22,
   "metadata": {},
   "outputs": [],
   "source": [
    "#!python --version"
   ]
  },
  {
   "cell_type": "code",
   "execution_count": 23,
   "metadata": {},
   "outputs": [],
   "source": [
    "x = np.random.normal(size = 50)\n",
    "y = np.random.normal(scale=5, size=50)"
   ]
  },
  {
   "cell_type": "code",
   "execution_count": 26,
   "metadata": {},
   "outputs": [
    {
     "data": {
      "text/html": [
       "<div>\n",
       "<style scoped>\n",
       "    .dataframe tbody tr th:only-of-type {\n",
       "        vertical-align: middle;\n",
       "    }\n",
       "\n",
       "    .dataframe tbody tr th {\n",
       "        vertical-align: top;\n",
       "    }\n",
       "\n",
       "    .dataframe thead th {\n",
       "        text-align: right;\n",
       "    }\n",
       "</style>\n",
       "<table border=\"1\" class=\"dataframe\">\n",
       "  <thead>\n",
       "    <tr style=\"text-align: right;\">\n",
       "      <th></th>\n",
       "      <th>x</th>\n",
       "      <th>y</th>\n",
       "    </tr>\n",
       "  </thead>\n",
       "  <tbody>\n",
       "    <tr>\n",
       "      <th>0</th>\n",
       "      <td>-1.425666</td>\n",
       "      <td>-7.209536</td>\n",
       "    </tr>\n",
       "    <tr>\n",
       "      <th>1</th>\n",
       "      <td>1.677606</td>\n",
       "      <td>1.256238</td>\n",
       "    </tr>\n",
       "    <tr>\n",
       "      <th>2</th>\n",
       "      <td>-0.043755</td>\n",
       "      <td>10.442318</td>\n",
       "    </tr>\n",
       "    <tr>\n",
       "      <th>3</th>\n",
       "      <td>-0.400493</td>\n",
       "      <td>1.169129</td>\n",
       "    </tr>\n",
       "    <tr>\n",
       "      <th>4</th>\n",
       "      <td>-0.474730</td>\n",
       "      <td>0.295633</td>\n",
       "    </tr>\n",
       "  </tbody>\n",
       "</table>\n",
       "</div>"
      ],
      "text/plain": [
       "          x          y\n",
       "0 -1.425666  -7.209536\n",
       "1  1.677606   1.256238\n",
       "2 -0.043755  10.442318\n",
       "3 -0.400493   1.169129\n",
       "4 -0.474730   0.295633"
      ]
     },
     "execution_count": 26,
     "metadata": {},
     "output_type": "execute_result"
    }
   ],
   "source": [
    "df = pd.DataFrame({'x':x, 'y':y})\n",
    "df.head()"
   ]
  },
  {
   "cell_type": "code",
   "execution_count": 32,
   "metadata": {},
   "outputs": [
    {
     "data": {
      "text/html": [
       "\n",
       "<div id=\"altair-viz-0eb78f165e29411c942159b36405a89e\"></div>\n",
       "<script type=\"text/javascript\">\n",
       "  (function(spec, embedOpt){\n",
       "    let outputDiv = document.currentScript.previousElementSibling;\n",
       "    if (outputDiv.id !== \"altair-viz-0eb78f165e29411c942159b36405a89e\") {\n",
       "      outputDiv = document.getElementById(\"altair-viz-0eb78f165e29411c942159b36405a89e\");\n",
       "    }\n",
       "    const paths = {\n",
       "      \"vega\": \"https://cdn.jsdelivr.net/npm//vega@5?noext\",\n",
       "      \"vega-lib\": \"https://cdn.jsdelivr.net/npm//vega-lib?noext\",\n",
       "      \"vega-lite\": \"https://cdn.jsdelivr.net/npm//vega-lite@4.8.1?noext\",\n",
       "      \"vega-embed\": \"https://cdn.jsdelivr.net/npm//vega-embed@6?noext\",\n",
       "    };\n",
       "\n",
       "    function loadScript(lib) {\n",
       "      return new Promise(function(resolve, reject) {\n",
       "        var s = document.createElement('script');\n",
       "        s.src = paths[lib];\n",
       "        s.async = true;\n",
       "        s.onload = () => resolve(paths[lib]);\n",
       "        s.onerror = () => reject(`Error loading script: ${paths[lib]}`);\n",
       "        document.getElementsByTagName(\"head\")[0].appendChild(s);\n",
       "      });\n",
       "    }\n",
       "\n",
       "    function showError(err) {\n",
       "      outputDiv.innerHTML = `<div class=\"error\" style=\"color:red;\">${err}</div>`;\n",
       "      throw err;\n",
       "    }\n",
       "\n",
       "    function displayChart(vegaEmbed) {\n",
       "      vegaEmbed(outputDiv, spec, embedOpt)\n",
       "        .catch(err => showError(`Javascript Error: ${err.message}<br>This usually means there's a typo in your chart specification. See the javascript console for the full traceback.`));\n",
       "    }\n",
       "\n",
       "    if(typeof define === \"function\" && define.amd) {\n",
       "      requirejs.config({paths});\n",
       "      require([\"vega-embed\"], displayChart, err => showError(`Error loading script: ${err.message}`));\n",
       "    } else if (typeof vegaEmbed === \"function\") {\n",
       "      displayChart(vegaEmbed);\n",
       "    } else {\n",
       "      loadScript(\"vega\")\n",
       "        .then(() => loadScript(\"vega-lite\"))\n",
       "        .then(() => loadScript(\"vega-embed\"))\n",
       "        .catch(showError)\n",
       "        .then(() => displayChart(vegaEmbed));\n",
       "    }\n",
       "  })({\"config\": {\"view\": {\"continuousWidth\": 400, \"continuousHeight\": 300}}, \"data\": {\"name\": \"data-a620728057214a2ace92afef611bc71a\"}, \"mark\": {\"type\": \"point\", \"filled\": true, \"size\": 100}, \"encoding\": {\"tooltip\": [{\"type\": \"quantitative\", \"field\": \"x\"}, {\"type\": \"quantitative\", \"field\": \"y\"}], \"x\": {\"type\": \"quantitative\", \"field\": \"x\"}, \"y\": {\"type\": \"quantitative\", \"field\": \"y\"}}, \"selection\": {\"selector005\": {\"type\": \"interval\", \"bind\": \"scales\", \"encodings\": [\"x\", \"y\"]}}, \"$schema\": \"https://vega.github.io/schema/vega-lite/v4.8.1.json\", \"datasets\": {\"data-a620728057214a2ace92afef611bc71a\": [{\"x\": -1.425665560185603, \"y\": -7.209535589142612}, {\"x\": 1.677605816109852, \"y\": 1.256238342193225}, {\"x\": -0.043755063039114785, \"y\": 10.442317892157691}, {\"x\": -0.40049326570561583, \"y\": 1.1691293595886694}, {\"x\": -0.47472965997044636, \"y\": 0.2956328200971333}, {\"x\": 0.16160530478322999, \"y\": 5.412136643876417}, {\"x\": -0.21002848407402597, \"y\": 10.935876524629968}, {\"x\": -0.47767401881059224, \"y\": -8.44527062832871}, {\"x\": 0.39874986847013677, \"y\": 6.492037350779814}, {\"x\": -0.0600128869178603, \"y\": -7.503998810779972}, {\"x\": -0.030012085742844162, \"y\": -2.2006319842532363}, {\"x\": -1.1096320598631053, \"y\": 0.8509112293464511}, {\"x\": -0.8526253915218718, \"y\": -3.289593148459083}, {\"x\": -0.3508664716943554, \"y\": 1.6725968758048204}, {\"x\": 1.4259956801228117, \"y\": -5.377846528170316}, {\"x\": -0.8735678509095006, \"y\": -4.169779623200128}, {\"x\": 0.43778594125948617, \"y\": -5.746669088529765}, {\"x\": -0.6229445602888104, \"y\": -2.831221927297965}, {\"x\": 0.7430361100289681, \"y\": 3.496123070478729}, {\"x\": 1.0372463687073188, \"y\": 2.0919158491762078}, {\"x\": 0.6046106539215528, \"y\": 6.716794382552733}, {\"x\": 1.5888123954783928, \"y\": -7.111301964046}, {\"x\": -1.6145946823607498, \"y\": 2.997455267642569}, {\"x\": 0.33961518602958324, \"y\": -5.351835729525128}, {\"x\": -1.3804529128314, \"y\": -2.884630987696099}, {\"x\": 1.1186306257062482, \"y\": -1.6999298845046606}, {\"x\": -0.08536143749666247, \"y\": 3.592373228866728}, {\"x\": 1.0501057439861803, \"y\": -1.1118661648478263}, {\"x\": -1.3122656530207812, \"y\": 1.87321736986015}, {\"x\": 0.46883642158693567, \"y\": 3.7222915589632195}, {\"x\": -0.16598555954918995, \"y\": 0.717858824966507}, {\"x\": -0.6447018492977302, \"y\": 5.157150382645287}, {\"x\": 0.15667711969075043, \"y\": 8.190678549876184}, {\"x\": -1.2344142697108285, \"y\": 1.7570374595508973}, {\"x\": 0.8041928254944664, \"y\": -4.3399431066740055}, {\"x\": -0.47190205860184053, \"y\": -0.9945736588124353}, {\"x\": -0.4993742365639746, \"y\": 3.514141578743616}, {\"x\": 1.9798955858993468, \"y\": 1.0430136964517083}, {\"x\": 0.032985939705640135, \"y\": 0.2904967495703286}, {\"x\": -0.0030052033713179878, \"y\": -2.4898434517878125}, {\"x\": 0.6015990216066686, \"y\": 2.5546757108541547}, {\"x\": -0.3564299501555477, \"y\": -7.291403887527132}, {\"x\": -1.3984255886566757, \"y\": 3.4095026317278956}, {\"x\": -0.13057153404927757, \"y\": 4.854567459848776}, {\"x\": -0.541176186019348, \"y\": -1.502385665483577}, {\"x\": 0.43654315952294187, \"y\": 6.645364350809069}, {\"x\": 1.067267523608909, \"y\": -0.16215719704347858}, {\"x\": -0.2972693056836237, \"y\": 5.071762423408045}, {\"x\": 0.5122376645176367, \"y\": 4.46128655286639}, {\"x\": 0.1877445946734727, \"y\": 0.8096132900059401}]}}, {\"mode\": \"vega-lite\"});\n",
       "</script>"
      ],
      "text/plain": [
       "alt.Chart(...)"
      ]
     },
     "execution_count": 32,
     "metadata": {},
     "output_type": "execute_result"
    }
   ],
   "source": [
    "chart = alt.Chart(df).mark_point(size=100, filled=True).encode(x='x', y='y', tooltip=['x','y']).interactive()\n",
    "chart"
   ]
  },
  {
   "cell_type": "code",
   "execution_count": null,
   "metadata": {},
   "outputs": [],
   "source": []
  }
 ],
 "metadata": {
  "kernelspec": {
   "display_name": "Python 3",
   "language": "python",
   "name": "python3"
  },
  "language_info": {
   "codemirror_mode": {
    "name": "ipython",
    "version": 3
   },
   "file_extension": ".py",
   "mimetype": "text/x-python",
   "name": "python",
   "nbconvert_exporter": "python",
   "pygments_lexer": "ipython3",
   "version": "3.8.5"
  }
 },
 "nbformat": 4,
 "nbformat_minor": 4
}
